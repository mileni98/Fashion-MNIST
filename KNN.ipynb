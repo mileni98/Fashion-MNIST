{
 "cells": [
  {
   "cell_type": "markdown",
   "metadata": {},
   "source": [
    "# KNN - K Nearest Neighbours"
   ]
  },
  {
   "cell_type": "markdown",
   "metadata": {},
   "source": [
    "Importing libraries"
   ]
  },
  {
   "cell_type": "code",
   "execution_count": 118,
   "metadata": {},
   "outputs": [],
   "source": [
    "import numpy as np\n",
    "import pandas as pd\n",
    "import matplotlib.pyplot as plt\n",
    "import sklearn\n",
    "\n",
    "from ipynb.fs.defs.Additional_metrics import *\n",
    "from sklearn.model_selection import train_test_split, StratifiedKFold\n",
    "from sklearn.metrics import confusion_matrix, accuracy_score, precision_score, recall_score, f1_score, roc_curve, precision_recall_curve\n",
    "from sklearn.neighbors import KNeighborsClassifier\n",
    "from sklearn.decomposition import PCA\n",
    "from sklearn.preprocessing import StandardScaler\n",
    "import time\n",
    "from tensorflow import io, image"
   ]
  },
  {
   "cell_type": "markdown",
   "metadata": {},
   "source": [
    "## Trained on 30% samples of the original training dataset"
   ]
  },
  {
   "cell_type": "code",
   "execution_count": 2,
   "metadata": {},
   "outputs": [],
   "source": [
    "train_data = pd.read_csv(\"datasets/fashion-mnist_train.csv\")\n",
    "X_train = train_data.iloc[:,1:]\n",
    "y_train = train_data.iloc[:,0]\n",
    "\n",
    "test_data = pd.read_csv(\"datasets/fashion-mnist_test.csv\")\n",
    "X_test = test_data.iloc[:,1:]\n",
    "y_test = test_data.iloc[:,0]\n",
    "\n",
    "X_train_std = (X_train - X_train.mean())/X_train.std()\n",
    "X_test_std = (X_test - X_test.mean())/X_test.std()"
   ]
  },
  {
   "cell_type": "code",
   "execution_count": 3,
   "metadata": {},
   "outputs": [],
   "source": [
    "X_train_30, X_test_30, y_train_30, y_test_30 = train_test_split(X_train_std, y_train, test_size=0.7, stratify=y_train, random_state=42)"
   ]
  },
  {
   "cell_type": "code",
   "execution_count": 6,
   "metadata": {
    "scrolled": false
   },
   "outputs": [
    {
     "name": "stdout",
     "output_type": "stream",
     "text": [
      "0. K = 1, m = euclidean, w = uniform, Average accuracy: 0.81861111 | Average execution time: 1.19949012\n",
      "1. K = 1, m = euclidean, w = distance, Average accuracy: 0.81861111 | Average execution time: 1.13282995\n",
      "2. K = 1, m = manhattan, w = uniform, Average accuracy: 0.82916667 | Average execution time: 19.19604301\n",
      "3. K = 1, m = manhattan, w = distance, Average accuracy: 0.82916667 | Average execution time: 18.98725367\n",
      "4. K = 1, m = chebyshev, w = uniform, Average accuracy: 0.64627778 | Average execution time: 15.77145195\n",
      "5. K = 1, m = chebyshev, w = distance, Average accuracy: 0.64627778 | Average execution time: 15.74871249\n",
      "6. K = 1, m = minkowski, w = uniform, Average accuracy: 0.799 | Average execution time: 86.22457352\n",
      "7. K = 1, m = minkowski, w = distance, Average accuracy: 0.799 | Average execution time: 86.80628028\n",
      "\n",
      "8. K = 2, m = euclidean, w = uniform, Average accuracy: 0.817 | Average execution time: 1.24112554\n",
      "9. K = 2, m = euclidean, w = distance, Average accuracy: 0.81861111 | Average execution time: 1.18167386\n",
      "10. K = 2, m = manhattan, w = uniform, Average accuracy: 0.82472222 | Average execution time: 19.61668038\n",
      "11. K = 2, m = manhattan, w = distance, Average accuracy: 0.82916667 | Average execution time: 19.69149599\n",
      "12. K = 2, m = chebyshev, w = uniform, Average accuracy: 0.63344444 | Average execution time: 15.76822171\n",
      "13. K = 2, m = chebyshev, w = distance, Average accuracy: 0.6465 | Average execution time: 15.58676376\n",
      "14. K = 2, m = minkowski, w = uniform, Average accuracy: 0.79988889 | Average execution time: 86.80988164\n",
      "15. K = 2, m = minkowski, w = distance, Average accuracy: 0.799 | Average execution time: 86.03244934\n",
      "\n",
      "16. K = 3, m = euclidean, w = uniform, Average accuracy: 0.82422222 | Average execution time: 1.30538163\n",
      "17. K = 3, m = euclidean, w = distance, Average accuracy: 0.828 | Average execution time: 1.22631407\n",
      "18. K = 3, m = manhattan, w = uniform, Average accuracy: 0.83616667 | Average execution time: 19.95132899\n",
      "19. K = 3, m = manhattan, w = distance, Average accuracy: 0.83883333 | Average execution time: 19.84423428\n",
      "20. K = 3, m = chebyshev, w = uniform, Average accuracy: 0.64233333 | Average execution time: 15.73890123\n",
      "21. K = 3, m = chebyshev, w = distance, Average accuracy: 0.65666667 | Average execution time: 15.60677981\n",
      "22. K = 3, m = minkowski, w = uniform, Average accuracy: 0.80566667 | Average execution time: 86.68116636\n",
      "23. K = 3, m = minkowski, w = distance, Average accuracy: 0.80822222 | Average execution time: 86.11205163\n",
      "\n",
      "24. K = 4, m = euclidean, w = uniform, Average accuracy: 0.83188889 | Average execution time: 1.5906476\n",
      "25. K = 4, m = euclidean, w = distance, Average accuracy: 0.83133333 | Average execution time: 1.52478566\n",
      "26. K = 4, m = manhattan, w = uniform, Average accuracy: 0.83861111 | Average execution time: 20.22958188\n",
      "27. K = 4, m = manhattan, w = distance, Average accuracy: 0.84016667 | Average execution time: 19.97455878\n",
      "28. K = 4, m = chebyshev, w = uniform, Average accuracy: 0.65211111 | Average execution time: 15.98132353\n",
      "29. K = 4, m = chebyshev, w = distance, Average accuracy: 0.65894444 | Average execution time: 15.93118534\n",
      "30. K = 4, m = minkowski, w = uniform, Average accuracy: 0.81522222 | Average execution time: 87.23486938\n",
      "31. K = 4, m = minkowski, w = distance, Average accuracy: 0.81327778 | Average execution time: 86.9207902\n",
      "\n",
      "32. K = 5, m = euclidean, w = uniform, Average accuracy: 0.829 | Average execution time: 1.57523141\n",
      "33. K = 5, m = euclidean, w = distance, Average accuracy: 0.831 | Average execution time: 1.52138233\n",
      "34. K = 5, m = manhattan, w = uniform, Average accuracy: 0.83572222 | Average execution time: 20.25941629\n",
      "35. K = 5, m = manhattan, w = distance, Average accuracy: 0.83955556 | Average execution time: 20.19134741\n",
      "36. K = 5, m = chebyshev, w = uniform, Average accuracy: 0.65194444 | Average execution time: 15.94989634\n",
      "37. K = 5, m = chebyshev, w = distance, Average accuracy: 0.66022222 | Average execution time: 15.87943311\n",
      "38. K = 5, m = minkowski, w = uniform, Average accuracy: 0.80905556 | Average execution time: 86.56486115\n",
      "39. K = 5, m = minkowski, w = distance, Average accuracy: 0.81244444 | Average execution time: 86.73101692\n",
      "\n",
      "40. K = 6, m = euclidean, w = uniform, Average accuracy: 0.83261111 | Average execution time: 1.59485359\n",
      "41. K = 6, m = euclidean, w = distance, Average accuracy: 0.83277778 | Average execution time: 1.5249856\n",
      "42. K = 6, m = manhattan, w = uniform, Average accuracy: 0.837 | Average execution time: 20.0171895\n",
      "43. K = 6, m = manhattan, w = distance, Average accuracy: 0.83983333 | Average execution time: 20.11347694\n",
      "44. K = 6, m = chebyshev, w = uniform, Average accuracy: 0.6535 | Average execution time: 15.97972312\n",
      "45. K = 6, m = chebyshev, w = distance, Average accuracy: 0.66377778 | Average execution time: 15.85380607\n",
      "46. K = 6, m = minkowski, w = uniform, Average accuracy: 0.81577778 | Average execution time: 87.15222435\n",
      "47. K = 6, m = minkowski, w = distance, Average accuracy: 0.81533333 | Average execution time: 87.37479482\n",
      "\n",
      "48. K = 7, m = euclidean, w = uniform, Average accuracy: 0.82566667 | Average execution time: 1.57563334\n",
      "49. K = 7, m = euclidean, w = distance, Average accuracy: 0.82877778 | Average execution time: 1.50116243\n",
      "50. K = 7, m = manhattan, w = uniform, Average accuracy: 0.8365 | Average execution time: 20.23358994\n",
      "51. K = 7, m = manhattan, w = distance, Average accuracy: 0.83894444 | Average execution time: 19.90909085\n",
      "52. K = 7, m = chebyshev, w = uniform, Average accuracy: 0.65172222 | Average execution time: 16.09663587\n",
      "53. K = 7, m = chebyshev, w = distance, Average accuracy: 0.66044444 | Average execution time: 15.90721669\n",
      "54. K = 7, m = minkowski, w = uniform, Average accuracy: 0.80983333 | Average execution time: 87.14465771\n",
      "55. K = 7, m = minkowski, w = distance, Average accuracy: 0.81227778 | Average execution time: 87.19823618\n",
      "\n",
      "56. K = 8, m = euclidean, w = uniform, Average accuracy: 0.82866667 | Average execution time: 1.56181912\n",
      "57. K = 8, m = euclidean, w = distance, Average accuracy: 0.82911111 | Average execution time: 1.5081439\n",
      "58. K = 8, m = manhattan, w = uniform, Average accuracy: 0.83733333 | Average execution time: 20.11407642\n",
      "59. K = 8, m = manhattan, w = distance, Average accuracy: 0.83905556 | Average execution time: 20.27602167\n",
      "60. K = 8, m = chebyshev, w = uniform, Average accuracy: 0.65327778 | Average execution time: 16.55546122\n",
      "61. K = 8, m = chebyshev, w = distance, Average accuracy: 0.66072222 | Average execution time: 16.28619909\n",
      "62. K = 8, m = minkowski, w = uniform, Average accuracy: 0.813 | Average execution time: 86.62951694\n",
      "63. K = 8, m = minkowski, w = distance, Average accuracy: 0.81333333 | Average execution time: 86.78425736\n",
      "\n",
      "64. K = 9, m = euclidean, w = uniform, Average accuracy: 0.82544444 | Average execution time: 1.56842556\n",
      "65. K = 9, m = euclidean, w = distance, Average accuracy: 0.82827778 | Average execution time: 1.48414783\n",
      "66. K = 9, m = manhattan, w = uniform, Average accuracy: 0.83327778 | Average execution time: 20.01578727\n",
      "67. K = 9, m = manhattan, w = distance, Average accuracy: 0.83638889 | Average execution time: 20.06403847\n",
      "68. K = 9, m = chebyshev, w = uniform, Average accuracy: 0.65061111 | Average execution time: 16.05419006\n",
      "69. K = 9, m = chebyshev, w = distance, Average accuracy: 0.65933333 | Average execution time: 15.91245747\n",
      "70. K = 9, m = minkowski, w = uniform, Average accuracy: 0.80894444 | Average execution time: 86.82209682\n",
      "71. K = 9, m = minkowski, w = distance, Average accuracy: 0.81038889 | Average execution time: 86.47964001\n",
      "\n",
      "72. K = 10, m = euclidean, w = uniform, Average accuracy: 0.82727778 | Average execution time: 1.56181903\n",
      "73. K = 10, m = euclidean, w = distance, Average accuracy: 0.82883333 | Average execution time: 1.50661502\n",
      "74. K = 10, m = manhattan, w = uniform, Average accuracy: 0.83427778 | Average execution time: 20.17054811\n",
      "75. K = 10, m = manhattan, w = distance, Average accuracy: 0.83611111 | Average execution time: 20.23358693\n",
      "76. K = 10, m = chebyshev, w = uniform, Average accuracy: 0.64922222 | Average execution time: 15.93667932\n",
      "77. K = 10, m = chebyshev, w = distance, Average accuracy: 0.65755556 | Average execution time: 16.15447955\n"
     ]
    },
    {
     "name": "stdout",
     "output_type": "stream",
     "text": [
      "78. K = 10, m = minkowski, w = uniform, Average accuracy: 0.80972222 | Average execution time: 87.34016538\n",
      "79. K = 10, m = minkowski, w = distance, Average accuracy: 0.81094444 | Average execution time: 86.90657682\n",
      "\n",
      "80. K = 11, m = euclidean, w = uniform, Average accuracy: 0.82488889 | Average execution time: 1.54096842\n",
      "81. K = 11, m = euclidean, w = distance, Average accuracy: 0.82688889 | Average execution time: 1.51337438\n",
      "82. K = 11, m = manhattan, w = uniform, Average accuracy: 0.8335 | Average execution time: 20.12368436\n",
      "83. K = 11, m = manhattan, w = distance, Average accuracy: 0.83594444 | Average execution time: 20.16213088\n",
      "84. K = 11, m = chebyshev, w = uniform, Average accuracy: 0.64922222 | Average execution time: 16.04938312\n",
      "85. K = 11, m = chebyshev, w = distance, Average accuracy: 0.65638889 | Average execution time: 15.92907462\n",
      "86. K = 11, m = minkowski, w = uniform, Average accuracy: 0.80788889 | Average execution time: 87.26749854\n",
      "87. K = 11, m = minkowski, w = distance, Average accuracy: 0.80961111 | Average execution time: 86.85133481\n",
      "\n",
      "-------------------\n",
      "Best accuracy is in iteration number:  27\n"
     ]
    }
   ],
   "source": [
    "kf = StratifiedKFold(n_splits = 5, shuffle = True, random_state = 42)\n",
    "acc = []\n",
    "i, p_val = 0, 0\n",
    "\n",
    "for k in [1,2,3,4,5,6,7,8,9,10,11]:\n",
    "    for m in ['euclidean','manhattan','chebyshev','minkowski']:   \n",
    "        for w in ['uniform','distance']:\n",
    "        \n",
    "            indexes = kf.split(X_train_30, y_train_30)\n",
    "            acc_tmp = []\n",
    "            time_tmp = []\n",
    "            fin_conf_mat = np.zeros((len(np.unique(y_train_30)),len(np.unique(y_train_30))))\n",
    "\n",
    "            for train_index, test_index in indexes:\n",
    "\n",
    "                X_trainCV1 = X_train_30.iloc[train_index,:]\n",
    "                y_trainCV1 = y_train_30.iloc[train_index]\n",
    "\n",
    "                X_testCV1 = X_train_30.iloc[test_index,:]\n",
    "                y_testCV1 = y_train_30.iloc[test_index]\n",
    "\n",
    "                start = time.time()\n",
    "\n",
    "                if m == 'minkowski':\n",
    "                    p_val = 3\n",
    "                else:\n",
    "                    p_val = 2\n",
    "                \n",
    "                knn1 = KNeighborsClassifier(n_neighbors = k, metric = m, p = p_val, weights = w, n_jobs = 20)\n",
    "                \n",
    "                knn1.fit(X_trainCV1, y_trainCV1)\n",
    "                y_pred1 = knn1.predict(X_testCV1)\n",
    "                c1 = confusion_matrix(y_testCV1, y_pred1)\n",
    "\n",
    "                acc_tmp.append(np.trace(c1)/sum(sum(c1)))\n",
    "                fin_conf_mat += c1\n",
    "                end = time.time()\n",
    "\n",
    "                time_tmp.append(end-start)\n",
    "                #print(\"        Accuracy: \", np.trace(c1)/sum(sum(c1)),'| Execution time:',end - start)\n",
    "\n",
    "            print(i,'. K = ', k,', m = ', m,', w = ', w, ', Average accuracy: ', round(np.mean(acc_tmp),8),' | Average execution time: ', round(np.mean(time_tmp),8), sep='')\n",
    "            acc.append(np.mean(acc_tmp))\n",
    "            i += 1\n",
    "            \n",
    "    print('')\n",
    "      \n",
    "print('-------------------')\n",
    "print('Best accuracy is in iteration number: ', np.argmax(acc))"
   ]
  },
  {
   "cell_type": "markdown",
   "metadata": {},
   "source": [
    "#### Checking if different algorithms speed up the process"
   ]
  },
  {
   "cell_type": "code",
   "execution_count": 14,
   "metadata": {},
   "outputs": [
    {
     "name": "stdout",
     "output_type": "stream",
     "text": [
      "ball_tree, Average accuracy: 0.84016667 | Average execution time: 5.74329457\n",
      "kd_tree, Average accuracy: 0.84016667 | Average execution time: 8.89986157\n"
     ]
    }
   ],
   "source": [
    "kf = StratifiedKFold(n_splits = 5, shuffle = True, random_state = 42)\n",
    "\n",
    "for a in ['ball_tree', 'kd_tree']:\n",
    "    indexes = kf.split(X_train_30, y_train_30)\n",
    "    acc_tmp = []\n",
    "    time_tmp = []\n",
    "    fin_conf_mat = np.zeros((len(np.unique(y_train_30)),len(np.unique(y_train_30))))\n",
    "\n",
    "    for train_index, test_index in indexes:\n",
    "\n",
    "        X_trainCV1 = X_train_30.iloc[train_index,:]\n",
    "        y_trainCV1 = y_train_30.iloc[train_index]\n",
    "\n",
    "        X_testCV1 = X_train_30.iloc[test_index,:]\n",
    "        y_testCV1 = y_train_30.iloc[test_index]\n",
    "\n",
    "        start = time.time()\n",
    "\n",
    "        knn1 = KNeighborsClassifier(n_neighbors = 4, algorithm = a, metric = \"manhattan\", weights = \"distance\", n_jobs = 20)\n",
    "\n",
    "        knn1.fit(X_trainCV1, y_trainCV1)\n",
    "        y_pred1 = knn1.predict(X_testCV1)\n",
    "        c1 = confusion_matrix(y_testCV1, y_pred1)\n",
    "\n",
    "        acc_tmp.append(np.trace(c1)/sum(sum(c1)))\n",
    "        fin_conf_mat += c1\n",
    "        end = time.time()\n",
    "\n",
    "        time_tmp.append(end-start)\n",
    "\n",
    "    print(a,', Average accuracy: ', round(np.mean(acc_tmp),8),' | Average execution time: ', round(np.mean(time_tmp),8), sep='')"
   ]
  },
  {
   "cell_type": "markdown",
   "metadata": {},
   "source": [
    "#### Training on 30% training samples, test on test dataset"
   ]
  },
  {
   "cell_type": "code",
   "execution_count": 28,
   "metadata": {},
   "outputs": [
    {
     "name": "stdout",
     "output_type": "stream",
     "text": [
      "Accuracy without reduction: 0.8475 | Average execution time:  72.6139748096466\n"
     ]
    }
   ],
   "source": [
    "start = time.time()\n",
    "\n",
    "knn1 = KNeighborsClassifier(n_neighbors = 4, metric = \"manhattan\", weights = 'distance', n_jobs = 20)\n",
    "knn1.fit(X_train_30, y_train_30)\n",
    "y_pred2 = knn1.predict(X_test_std)\n",
    "c2 = confusion_matrix(y_test, y_pred2, labels=[0,1,2,3,4,5,6,7,8,9])\n",
    "\n",
    "end = time.time()\n",
    "print('Accuracy without reduction:' , np.trace(c2)/sum(sum(c2)), '| Average execution time: ', end - start)"
   ]
  },
  {
   "cell_type": "markdown",
   "metadata": {},
   "source": [
    "#### Checking if different algorithms speed up the process "
   ]
  },
  {
   "cell_type": "code",
   "execution_count": 29,
   "metadata": {},
   "outputs": [
    {
     "name": "stdout",
     "output_type": "stream",
     "text": [
      "ball_tree , Accuracy without reduction: 0.8475 | Average execution time:  19.211456060409546\n",
      "kd_tree , Accuracy without reduction: 0.8475 | Average execution time:  32.06991147994995\n"
     ]
    }
   ],
   "source": [
    "for a in ['ball_tree', 'kd_tree']:\n",
    "    start = time.time()\n",
    "\n",
    "    knn1 = KNeighborsClassifier(n_neighbors = 4, metric = \"manhattan\", weights = 'distance', algorithm = a, n_jobs = 20)\n",
    "    knn1.fit(X_train_30, y_train_30)\n",
    "    y_pred2 = knn1.predict(X_test_std)\n",
    "    c2 = confusion_matrix(y_test, y_pred2, labels=[0,1,2,3,4,5,6,7,8,9])\n",
    "\n",
    "    end = time.time()\n",
    "    print(a, ', Accuracy without reduction:' , np.trace(c2)/sum(sum(c2)), '| Average execution time: ', end - start)"
   ]
  },
  {
   "cell_type": "markdown",
   "metadata": {},
   "source": [
    "."
   ]
  },
  {
   "cell_type": "markdown",
   "metadata": {},
   "source": [
    "## Trained on 100% samples of the original training dataset"
   ]
  },
  {
   "cell_type": "code",
   "execution_count": 31,
   "metadata": {},
   "outputs": [],
   "source": [
    "train_data = pd.read_csv(\"datasets/fashion-mnist_train.csv\")\n",
    "X_train = train_data.iloc[:,1:]\n",
    "y_train = train_data.iloc[:,0]\n",
    "\n",
    "test_data = pd.read_csv(\"datasets/fashion-mnist_test.csv\")\n",
    "X_test = test_data.iloc[:,1:]\n",
    "y_test = test_data.iloc[:,0]\n",
    "\n",
    "X_train_std = (X_train - X_train.mean())/X_train.std()\n",
    "X_test_std = (X_test - X_test.mean())/X_test.std()"
   ]
  },
  {
   "cell_type": "code",
   "execution_count": 32,
   "metadata": {},
   "outputs": [
    {
     "name": "stdout",
     "output_type": "stream",
     "text": [
      "        Accuracy:  0.8645 | Execution time: 89.8206193447113\n",
      "        Accuracy:  0.8643333333333333 | Execution time: 90.1979615688324\n",
      "        Accuracy:  0.86525 | Execution time: 90.001784324646\n",
      "        Accuracy:  0.8663333333333333 | Execution time: 90.09033679962158\n",
      "        Accuracy:  0.863 | Execution time: 68.5863242149353\n",
      "\n",
      "-------------------\n",
      "Average accuracy: 0.8646833333333334 | Average execution time: 85.73940525054931\n"
     ]
    }
   ],
   "source": [
    "kf = StratifiedKFold(n_splits=5, shuffle=True, random_state=42)\n",
    "acc = []\n",
    "     \n",
    "indexes = kf.split(X_train, y_train)\n",
    "acc_tmp = []\n",
    "time_tmp = []\n",
    "fin_conf_mat = np.zeros((len(np.unique(y_train)),len(np.unique(y_train))))\n",
    "\n",
    "for train_index, test_index in indexes:\n",
    "    \n",
    "    X_trainCV2 = X_train_std.iloc[train_index,:]\n",
    "    y_trainCV2 = y_train.iloc[train_index]\n",
    "    \n",
    "    X_testCV2 = X_train_std.iloc[test_index,:]\n",
    "    y_testCV2 = y_train.iloc[test_index]\n",
    "\n",
    "    start = time.time()\n",
    "\n",
    "    knn2 = KNeighborsClassifier(n_neighbors = 4, metric = \"manhattan\", weights = \"distance\", algorithm = 'ball_tree',  n_jobs = 20)\n",
    "    knn2.fit(X_trainCV2, y_trainCV2)\n",
    "    y_pred3 = knn2.predict(X_testCV2)\n",
    "    c3 = confusion_matrix(y_testCV2, y_pred3)\n",
    "\n",
    "    acc_tmp.append(np.trace(c3)/sum(sum(c3)))\n",
    "    fin_conf_mat += c3\n",
    "    end = time.time()\n",
    "\n",
    "    time_tmp.append(end-start)\n",
    "    print(\"        Accuracy: \", np.trace(c3)/sum(sum(c3)),'| Execution time:',end - start)\n",
    "    \n",
    "print(\"\")    \n",
    "print('-------------------')\n",
    "print('Average accuracy:', np.mean(acc_tmp),'| Average execution time:',np.mean(time_tmp))    "
   ]
  },
  {
   "cell_type": "markdown",
   "metadata": {},
   "source": [
    "##### Training on 100% training samples, test on test dataset"
   ]
  },
  {
   "cell_type": "code",
   "execution_count": 33,
   "metadata": {},
   "outputs": [
    {
     "name": "stdout",
     "output_type": "stream",
     "text": [
      "Accuracy without reduction: 0.8706 | Execution time: 75.81088852882385\n"
     ]
    }
   ],
   "source": [
    "start = time.time()\n",
    "\n",
    "knn2 = KNeighborsClassifier(n_neighbors = 4, metric = \"manhattan\", weights = \"distance\", algorithm = 'ball_tree', n_jobs = 20)\n",
    "knn2.fit(X_train_std, y_train)\n",
    "y_pred4 = knn2.predict(X_test_std)\n",
    "c4 = confusion_matrix(y_test, y_pred4, labels=[0,1,2,3,4,5,6,7,8,9])\n",
    "\n",
    "end = time.time()\n",
    "print('Accuracy without reduction:', np.trace(c4)/sum(sum(c4)), '| Execution time:', end - start)"
   ]
  },
  {
   "cell_type": "markdown",
   "metadata": {},
   "source": [
    "."
   ]
  },
  {
   "cell_type": "markdown",
   "metadata": {},
   "source": [
    "## Trained on 100% samples with PCA reduction"
   ]
  },
  {
   "cell_type": "code",
   "execution_count": 4,
   "metadata": {},
   "outputs": [],
   "source": [
    "train_data = pd.read_csv(\"datasets/fashion-mnist_train.csv\")\n",
    "X_train = train_data.iloc[:,1:]\n",
    "y_train = train_data.iloc[:,0]\n",
    "\n",
    "test_data = pd.read_csv(\"datasets/fashion-mnist_test.csv\")\n",
    "X_test = test_data.iloc[:,1:]\n",
    "y_test = test_data.iloc[:,0]\n",
    "\n",
    "X_train_std = (X_train - X_train.mean())/X_train.std()\n",
    "X_test_std = (X_test - X_test.mean())/X_test.std()"
   ]
  },
  {
   "cell_type": "code",
   "execution_count": 46,
   "metadata": {
    "scrolled": false
   },
   "outputs": [
    {
     "name": "stdout",
     "output_type": "stream",
     "text": [
      "0. pca = 0.8, K = 1, m = euclidean, w = distance, Average accuracy: 0.83573333 | Average execution time: 7.81550183\n",
      "1. pca = 0.85, K = 1, m = euclidean, w = distance, Average accuracy: 0.84471667 | Average execution time: 7.79468307\n",
      "2. pca = 0.9, K = 1, m = euclidean, w = distance, Average accuracy: 0.8495 | Average execution time: 7.98725748\n",
      "3. pca = 0.95, K = 1, m = euclidean, w = distance, Average accuracy: 0.85103333 | Average execution time: 8.53355465\n",
      "\n",
      "4. pca = 0.8, K = 1, m = manhattan, w = distance, Average accuracy: 0.84098333 | Average execution time: 7.60751281\n",
      "5. pca = 0.85, K = 1, m = manhattan, w = distance, Average accuracy: 0.84836667 | Average execution time: 9.86056056\n",
      "6. pca = 0.9, K = 1, m = manhattan, w = distance, Average accuracy: 0.85498333 | Average execution time: 12.44650908\n",
      "7. pca = 0.95, K = 1, m = manhattan, w = distance, Average accuracy: 0.85443333 | Average execution time: 40.53563433\n",
      "\n",
      "8. pca = 0.8, K = 1, m = chebyshev, w = distance, Average accuracy: 0.81616667 | Average execution time: 6.43244429\n",
      "9. pca = 0.85, K = 1, m = chebyshev, w = distance, Average accuracy: 0.82111667 | Average execution time: 7.58769493\n",
      "10. pca = 0.9, K = 1, m = chebyshev, w = distance, Average accuracy: 0.82133333 | Average execution time: 11.35231519\n",
      "11. pca = 0.95, K = 1, m = chebyshev, w = distance, Average accuracy: 0.82196667 | Average execution time: 42.00897303\n",
      "\n",
      "12. pca = 0.8, K = 2, m = euclidean, w = distance, Average accuracy: 0.83573333 | Average execution time: 8.34727063\n",
      "13. pca = 0.85, K = 2, m = euclidean, w = distance, Average accuracy: 0.84471667 | Average execution time: 8.30394487\n",
      "14. pca = 0.9, K = 2, m = euclidean, w = distance, Average accuracy: 0.8495 | Average execution time: 8.50052395\n",
      "15. pca = 0.95, K = 2, m = euclidean, w = distance, Average accuracy: 0.85103333 | Average execution time: 9.06223416\n",
      "\n",
      "16. pca = 0.8, K = 2, m = manhattan, w = distance, Average accuracy: 0.84098333 | Average execution time: 6.92749538\n",
      "17. pca = 0.85, K = 2, m = manhattan, w = distance, Average accuracy: 0.84836667 | Average execution time: 7.93380942\n",
      "18. pca = 0.9, K = 2, m = manhattan, w = distance, Average accuracy: 0.85498333 | Average execution time: 12.01411715\n",
      "19. pca = 0.95, K = 2, m = manhattan, w = distance, Average accuracy: 0.85443333 | Average execution time: 40.71239514\n",
      "\n",
      "20. pca = 0.8, K = 2, m = chebyshev, w = distance, Average accuracy: 0.81616667 | Average execution time: 6.93330026\n",
      "21. pca = 0.85, K = 2, m = chebyshev, w = distance, Average accuracy: 0.82111667 | Average execution time: 7.74163527\n",
      "22. pca = 0.9, K = 2, m = chebyshev, w = distance, Average accuracy: 0.82133333 | Average execution time: 11.50645571\n",
      "23. pca = 0.95, K = 2, m = chebyshev, w = distance, Average accuracy: 0.82196667 | Average execution time: 42.11887331\n",
      "\n",
      "24. pca = 0.8, K = 3, m = euclidean, w = distance, Average accuracy: 0.84986667 | Average execution time: 8.65506482\n",
      "25. pca = 0.85, K = 3, m = euclidean, w = distance, Average accuracy: 0.85756667 | Average execution time: 8.71792197\n",
      "26. pca = 0.9, K = 3, m = euclidean, w = distance, Average accuracy: 0.86013333 | Average execution time: 8.94853148\n",
      "27. pca = 0.95, K = 3, m = euclidean, w = distance, Average accuracy: 0.86125 | Average execution time: 9.54307108\n",
      "\n",
      "28. pca = 0.8, K = 3, m = manhattan, w = distance, Average accuracy: 0.85526667 | Average execution time: 7.35568442\n",
      "29. pca = 0.85, K = 3, m = manhattan, w = distance, Average accuracy: 0.86225 | Average execution time: 8.32816792\n",
      "30. pca = 0.9, K = 3, m = manhattan, w = distance, Average accuracy: 0.8651 | Average execution time: 12.98720164\n",
      "31. pca = 0.95, K = 3, m = manhattan, w = distance, Average accuracy: 0.86186667 | Average execution time: 41.12196732\n",
      "\n",
      "32. pca = 0.8, K = 3, m = chebyshev, w = distance, Average accuracy: 0.83325 | Average execution time: 7.33306293\n",
      "33. pca = 0.85, K = 3, m = chebyshev, w = distance, Average accuracy: 0.8352 | Average execution time: 8.42805781\n",
      "34. pca = 0.9, K = 3, m = chebyshev, w = distance, Average accuracy: 0.83503333 | Average execution time: 11.99389849\n",
      "35. pca = 0.95, K = 3, m = chebyshev, w = distance, Average accuracy: 0.83488333 | Average execution time: 42.69479566\n",
      "\n",
      "36. pca = 0.8, K = 4, m = euclidean, w = distance, Average accuracy: 0.85336667 | Average execution time: 11.85497241\n",
      "37. pca = 0.85, K = 4, m = euclidean, w = distance, Average accuracy: 0.8596 | Average execution time: 11.93964939\n",
      "38. pca = 0.9, K = 4, m = euclidean, w = distance, Average accuracy: 0.86366667 | Average execution time: 12.16805677\n",
      "39. pca = 0.95, K = 4, m = euclidean, w = distance, Average accuracy: 0.86316667 | Average execution time: 12.74578161\n",
      "\n",
      "40. pca = 0.8, K = 4, m = manhattan, w = distance, Average accuracy: 0.8579 | Average execution time: 10.71613765\n",
      "41. pca = 0.85, K = 4, m = manhattan, w = distance, Average accuracy: 0.86435 | Average execution time: 11.69022279\n",
      "42. pca = 0.9, K = 4, m = manhattan, w = distance, Average accuracy: 0.86865 | Average execution time: 16.42212195\n",
      "43. pca = 0.95, K = 4, m = manhattan, w = distance, Average accuracy: 0.86623333 | Average execution time: 45.10758948\n",
      "\n",
      "44. pca = 0.8, K = 4, m = chebyshev, w = distance, Average accuracy: 0.8347 | Average execution time: 10.4891314\n",
      "45. pca = 0.85, K = 4, m = chebyshev, w = distance, Average accuracy: 0.83781667 | Average execution time: 11.3403049\n",
      "46. pca = 0.9, K = 4, m = chebyshev, w = distance, Average accuracy: 0.83823333 | Average execution time: 15.31191363\n",
      "47. pca = 0.95, K = 4, m = chebyshev, w = distance, Average accuracy: 0.83818333 | Average execution time: 45.88069167\n",
      "\n",
      "48. pca = 0.8, K = 5, m = euclidean, w = distance, Average accuracy: 0.85638333 | Average execution time: 11.92863951\n",
      "49. pca = 0.85, K = 5, m = euclidean, w = distance, Average accuracy: 0.86096667 | Average execution time: 12.04454479\n",
      "50. pca = 0.9, K = 5, m = euclidean, w = distance, Average accuracy: 0.86361667 | Average execution time: 12.23892179\n",
      "51. pca = 0.95, K = 5, m = euclidean, w = distance, Average accuracy: 0.86325 | Average execution time: 12.76299782\n",
      "\n",
      "52. pca = 0.8, K = 5, m = manhattan, w = distance, Average accuracy: 0.85946667 | Average execution time: 10.77919536\n",
      "53. pca = 0.85, K = 5, m = manhattan, w = distance, Average accuracy: 0.86515 | Average execution time: 11.7596858\n",
      "54. pca = 0.9, K = 5, m = manhattan, w = distance, Average accuracy: 0.8679 | Average execution time: 15.62019405\n",
      "55. pca = 0.95, K = 5, m = manhattan, w = distance, Average accuracy: 0.86483333 | Average execution time: 44.887989\n",
      "\n",
      "56. pca = 0.8, K = 5, m = chebyshev, w = distance, Average accuracy: 0.83776667 | Average execution time: 10.54658318\n",
      "57. pca = 0.85, K = 5, m = chebyshev, w = distance, Average accuracy: 0.83978333 | Average execution time: 11.36853018\n",
      "58. pca = 0.9, K = 5, m = chebyshev, w = distance, Average accuracy: 0.83975 | Average execution time: 14.56203265\n",
      "59. pca = 0.95, K = 5, m = chebyshev, w = distance, Average accuracy: 0.83946667 | Average execution time: 46.49905391\n",
      "\n",
      "60. pca = 0.8, K = 6, m = euclidean, w = distance, Average accuracy: 0.8566 | Average execution time: 11.89641032\n",
      "61. pca = 0.85, K = 6, m = euclidean, w = distance, Average accuracy: 0.86283333 | Average execution time: 11.96487255\n",
      "62. pca = 0.9, K = 6, m = euclidean, w = distance, Average accuracy: 0.86513333 | Average execution time: 12.29917641\n",
      "63. pca = 0.95, K = 6, m = euclidean, w = distance, Average accuracy: 0.86448333 | Average execution time: 12.81664634\n",
      "\n",
      "64. pca = 0.8, K = 6, m = manhattan, w = distance, Average accuracy: 0.86095 | Average execution time: 10.7511693\n",
      "65. pca = 0.85, K = 6, m = manhattan, w = distance, Average accuracy: 0.86741667 | Average execution time: 12.51957612\n",
      "66. pca = 0.9, K = 6, m = manhattan, w = distance, Average accuracy: 0.8691 | Average execution time: 17.04068518\n",
      "67. pca = 0.95, K = 6, m = manhattan, w = distance, Average accuracy: 0.86653333 | Average execution time: 44.98607874\n",
      "\n",
      "68. pca = 0.8, K = 6, m = chebyshev, w = distance, Average accuracy: 0.83986667 | Average execution time: 10.59763069\n",
      "69. pca = 0.85, K = 6, m = chebyshev, w = distance, Average accuracy: 0.84235 | Average execution time: 11.73566384\n"
     ]
    },
    {
     "name": "stdout",
     "output_type": "stream",
     "text": [
      "70. pca = 0.9, K = 6, m = chebyshev, w = distance, Average accuracy: 0.84248333 | Average execution time: 14.94377913\n",
      "71. pca = 0.95, K = 6, m = chebyshev, w = distance, Average accuracy: 0.84235 | Average execution time: 47.36463957\n",
      "\n",
      "72. pca = 0.8, K = 7, m = euclidean, w = distance, Average accuracy: 0.8562 | Average execution time: 11.92823939\n",
      "73. pca = 0.85, K = 7, m = euclidean, w = distance, Average accuracy: 0.86205 | Average execution time: 12.02933059\n",
      "74. pca = 0.9, K = 7, m = euclidean, w = distance, Average accuracy: 0.86356667 | Average execution time: 12.22310715\n",
      "75. pca = 0.95, K = 7, m = euclidean, w = distance, Average accuracy: 0.86256667 | Average execution time: 12.8304594\n",
      "\n",
      "76. pca = 0.8, K = 7, m = manhattan, w = distance, Average accuracy: 0.86085 | Average execution time: 10.9597589\n",
      "77. pca = 0.85, K = 7, m = manhattan, w = distance, Average accuracy: 0.86613333 | Average execution time: 12.1700583\n",
      "78. pca = 0.9, K = 7, m = manhattan, w = distance, Average accuracy: 0.8678 | Average execution time: 16.45074906\n",
      "79. pca = 0.95, K = 7, m = manhattan, w = distance, Average accuracy: 0.86368333 | Average execution time: 44.39634209\n",
      "\n",
      "80. pca = 0.8, K = 7, m = chebyshev, w = distance, Average accuracy: 0.839 | Average execution time: 10.64767556\n",
      "81. pca = 0.85, K = 7, m = chebyshev, w = distance, Average accuracy: 0.84125 | Average execution time: 11.72325282\n",
      "82. pca = 0.9, K = 7, m = chebyshev, w = distance, Average accuracy: 0.84111667 | Average execution time: 14.68414354\n",
      "83. pca = 0.95, K = 7, m = chebyshev, w = distance, Average accuracy: 0.84071667 | Average execution time: 47.04835224\n",
      "\n",
      "84. pca = 0.8, K = 8, m = euclidean, w = distance, Average accuracy: 0.85763333 | Average execution time: 11.99069567\n",
      "85. pca = 0.85, K = 8, m = euclidean, w = distance, Average accuracy: 0.86233333 | Average execution time: 11.98609209\n",
      "86. pca = 0.9, K = 8, m = euclidean, w = distance, Average accuracy: 0.86468333 | Average execution time: 12.18687725\n",
      "87. pca = 0.95, K = 8, m = euclidean, w = distance, Average accuracy: 0.864 | Average execution time: 12.74899187\n",
      "\n",
      "88. pca = 0.8, K = 8, m = manhattan, w = distance, Average accuracy: 0.86248333 | Average execution time: 10.51795721\n",
      "89. pca = 0.85, K = 8, m = manhattan, w = distance, Average accuracy: 0.86675 | Average execution time: 11.42498155\n",
      "90. pca = 0.9, K = 8, m = manhattan, w = distance, Average accuracy: 0.869 | Average execution time: 15.44303303\n",
      "91. pca = 0.95, K = 8, m = manhattan, w = distance, Average accuracy: 0.86491667 | Average execution time: 45.42647867\n",
      "\n",
      "92. pca = 0.8, K = 8, m = chebyshev, w = distance, Average accuracy: 0.83948333 | Average execution time: 10.36902223\n",
      "93. pca = 0.85, K = 8, m = chebyshev, w = distance, Average accuracy: 0.84173333 | Average execution time: 11.38194275\n",
      "94. pca = 0.9, K = 8, m = chebyshev, w = distance, Average accuracy: 0.84203333 | Average execution time: 15.15837421\n",
      "95. pca = 0.95, K = 8, m = chebyshev, w = distance, Average accuracy: 0.84193333 | Average execution time: 44.49042854\n",
      "\n",
      "96. pca = 0.8, K = 9, m = euclidean, w = distance, Average accuracy: 0.85706667 | Average execution time: 11.55790381\n",
      "97. pca = 0.85, K = 9, m = euclidean, w = distance, Average accuracy: 0.8613 | Average execution time: 11.63577623\n",
      "98. pca = 0.9, K = 9, m = euclidean, w = distance, Average accuracy: 0.86338333 | Average execution time: 12.04014311\n",
      "99. pca = 0.95, K = 9, m = euclidean, w = distance, Average accuracy: 0.86245 | Average execution time: 12.72035947\n",
      "\n",
      "100. pca = 0.8, K = 9, m = manhattan, w = distance, Average accuracy: 0.86088333 | Average execution time: 11.00464473\n",
      "101. pca = 0.85, K = 9, m = manhattan, w = distance, Average accuracy: 0.86548333 | Average execution time: 13.23783002\n",
      "102. pca = 0.9, K = 9, m = manhattan, w = distance, Average accuracy: 0.8672 | Average execution time: 21.44068422\n",
      "103. pca = 0.95, K = 9, m = manhattan, w = distance, Average accuracy: 0.8633 | Average execution time: 43.65266714\n",
      "\n",
      "104. pca = 0.8, K = 9, m = chebyshev, w = distance, Average accuracy: 0.83918333 | Average execution time: 10.83683195\n",
      "105. pca = 0.85, K = 9, m = chebyshev, w = distance, Average accuracy: 0.84096667 | Average execution time: 12.28536401\n",
      "106. pca = 0.9, K = 9, m = chebyshev, w = distance, Average accuracy: 0.84065 | Average execution time: 23.39848742\n",
      "107. pca = 0.95, K = 9, m = chebyshev, w = distance, Average accuracy: 0.84001667 | Average execution time: 41.31754546\n",
      "\n",
      "108. pca = 0.8, K = 10, m = euclidean, w = distance, Average accuracy: 0.85778333 | Average execution time: 11.8489677\n",
      "109. pca = 0.85, K = 10, m = euclidean, w = distance, Average accuracy: 0.86246667 | Average execution time: 11.96026883\n",
      "110. pca = 0.9, K = 10, m = euclidean, w = distance, Average accuracy: 0.86396667 | Average execution time: 12.1616518\n",
      "111. pca = 0.95, K = 10, m = euclidean, w = distance, Average accuracy: 0.86313333 | Average execution time: 12.76314006\n",
      "\n",
      "112. pca = 0.8, K = 10, m = manhattan, w = distance, Average accuracy: 0.86185 | Average execution time: 11.03322587\n",
      "113. pca = 0.85, K = 10, m = manhattan, w = distance, Average accuracy: 0.86643333 | Average execution time: 11.79872236\n",
      "114. pca = 0.9, K = 10, m = manhattan, w = distance, Average accuracy: 0.8688 | Average execution time: 20.81151214\n",
      "115. pca = 0.95, K = 10, m = manhattan, w = distance, Average accuracy: 0.86283333 | Average execution time: 42.76125712\n",
      "\n",
      "116. pca = 0.8, K = 10, m = chebyshev, w = distance, Average accuracy: 0.839 | Average execution time: 10.41086092\n",
      "117. pca = 0.85, K = 10, m = chebyshev, w = distance, Average accuracy: 0.84083333 | Average execution time: 11.48083167\n",
      "118. pca = 0.9, K = 10, m = chebyshev, w = distance, Average accuracy: 0.84085 | Average execution time: 16.04718165\n",
      "119. pca = 0.95, K = 10, m = chebyshev, w = distance, Average accuracy: 0.84046667 | Average execution time: 44.42837219\n",
      "\n",
      "120. pca = 0.8, K = 11, m = euclidean, w = distance, Average accuracy: 0.8568 | Average execution time: 11.83735685\n",
      "121. pca = 0.85, K = 11, m = euclidean, w = distance, Average accuracy: 0.86061667 | Average execution time: 11.98829498\n",
      "122. pca = 0.9, K = 11, m = euclidean, w = distance, Average accuracy: 0.86301667 | Average execution time: 12.13162489\n",
      "123. pca = 0.95, K = 11, m = euclidean, w = distance, Average accuracy: 0.86161667 | Average execution time: 12.75158782\n",
      "\n",
      "124. pca = 0.8, K = 11, m = manhattan, w = distance, Average accuracy: 0.8606 | Average execution time: 10.67149787\n",
      "125. pca = 0.85, K = 11, m = manhattan, w = distance, Average accuracy: 0.86493333 | Average execution time: 11.64117818\n",
      "126. pca = 0.9, K = 11, m = manhattan, w = distance, Average accuracy: 0.86653333 | Average execution time: 16.36306906\n",
      "127. pca = 0.95, K = 11, m = manhattan, w = distance, Average accuracy: 0.86073333 | Average execution time: 44.22238393\n",
      "\n",
      "128. pca = 0.8, K = 11, m = chebyshev, w = distance, Average accuracy: 0.83911667 | Average execution time: 10.39424634\n",
      "129. pca = 0.85, K = 11, m = chebyshev, w = distance, Average accuracy: 0.84111667 | Average execution time: 11.27965007\n",
      "130. pca = 0.9, K = 11, m = chebyshev, w = distance, Average accuracy: 0.84111667 | Average execution time: 15.38017621\n",
      "131. pca = 0.95, K = 11, m = chebyshev, w = distance, Average accuracy: 0.8407 | Average execution time: 44.54527907\n",
      "\n",
      "-------------------\n",
      "Best accuracy is in iteration number:  66\n"
     ]
    }
   ],
   "source": [
    "kf = StratifiedKFold(n_splits=5, shuffle=True, random_state=42)\n",
    "acc = []\n",
    "i, p_val = 0, 0\n",
    "\n",
    "for k in [1,2,3,4,5,6,7,8,9,10,11]:\n",
    "    for m in ['euclidean','manhattan','chebyshev']:   \n",
    "        for w in ['distance']:\n",
    "            for pc in [0.8, 0.85, 0.9, 0.95]:\n",
    "            \n",
    "                if m == 'minkowski':\n",
    "                    p_val = 3\n",
    "                else:\n",
    "                    p_val = 2\n",
    "\n",
    "                indexes = kf.split(X_train, y_train)\n",
    "                acc_tmp = []\n",
    "                time_tmp = []\n",
    "                fin_conf_mat = np.zeros((len(np.unique(y_train)),len(np.unique(y_train))))\n",
    "\n",
    "                for train_index, test_index in indexes:\n",
    "\n",
    "                    X_trainCV3 = X_train_std.iloc[train_index,:]\n",
    "                    y_trainCV3 = y_train.iloc[train_index]\n",
    "\n",
    "                    X_testCV3 = X_train_std.iloc[test_index,:]\n",
    "                    y_testCV3 = y_train.iloc[test_index]\n",
    "\n",
    "                    pca = PCA(n_components=pc)\n",
    "                    pca.fit(X_trainCV3)\n",
    "                    X_train_r = pca.transform(X_trainCV3)\n",
    "                    X_test_r = pca.transform(X_testCV3)\n",
    "\n",
    "                    start = time.time()\n",
    "\n",
    "                    knn3 = KNeighborsClassifier(n_neighbors = k, metric = m, p = p_val, weights = w, n_jobs = 20)\n",
    "                    knn3.fit(X_train_r, y_trainCV3)\n",
    "                    y_pred5 = knn3.predict(X_test_r)\n",
    "                    c5 = confusion_matrix(y_testCV3, y_pred5, labels=[0,1,2,3,4,5,6,7,8,9])\n",
    "\n",
    "                    acc_tmp.append(np.trace(c5)/sum(sum(c5)))\n",
    "                    fin_conf_mat += c5\n",
    "                    end = time.time()\n",
    "\n",
    "                    time_tmp.append(end-start)\n",
    "                    #print(\"        Accuracy: \", np.trace(c5)/sum(sum(c5)),'| Execution time:',end - start)\n",
    "\n",
    "                print(i,'. pca = ', pc,', K = ', k,', m = ', m,', w = ', w, ', Average accuracy: ', round(np.mean(acc_tmp),8),' | Average execution time: ', round(np.mean(time_tmp),8), sep='')\n",
    "                acc.append(np.mean(acc_tmp))\n",
    "                i += 1\n",
    "            \n",
    "            print('')\n",
    "            \n",
    "print('-------------------')\n",
    "print('Best accuracy is in iteration number: ', np.argmax(acc))"
   ]
  },
  {
   "cell_type": "markdown",
   "metadata": {},
   "source": [
    "#### Checking if different algorithms speed up the process"
   ]
  },
  {
   "cell_type": "code",
   "execution_count": 51,
   "metadata": {},
   "outputs": [
    {
     "name": "stdout",
     "output_type": "stream",
     "text": [
      "ball_tree, Average accuracy: 0.8691 | Average execution time: 19.48031311\n",
      "kd_tree, Average accuracy: 0.8691 | Average execution time: 24.33771577\n"
     ]
    }
   ],
   "source": [
    "kf = StratifiedKFold(n_splits = 5, shuffle = True, random_state = 42)\n",
    "\n",
    "for a in ['ball_tree', 'kd_tree']:\n",
    "\n",
    "    indexes = kf.split(X_train, y_train)\n",
    "    acc_tmp = []\n",
    "    time_tmp = []\n",
    "    fin_conf_mat = np.zeros((len(np.unique(y_train)),len(np.unique(y_train))))\n",
    "\n",
    "    for train_index, test_index in indexes:\n",
    "\n",
    "        X_trainCV3 = X_train_std.iloc[train_index,:]\n",
    "        y_trainCV3 = y_train.iloc[train_index]\n",
    "\n",
    "        X_testCV3 = X_train_std.iloc[test_index,:]\n",
    "        y_testCV3 = y_train.iloc[test_index]\n",
    "\n",
    "        pca = PCA(n_components = 0.9)\n",
    "        pca.fit(X_trainCV3)\n",
    "        X_train_r = pca.transform(X_trainCV3)\n",
    "        X_test_r = pca.transform(X_testCV3)\n",
    "\n",
    "        start = time.time()\n",
    "\n",
    "        knn3 = KNeighborsClassifier(n_neighbors = 6, algorithm = a, metric = \"manhattan\", weights = \"distance\", n_jobs = 20)\n",
    "        knn3.fit(X_train_r, y_trainCV3)\n",
    "        y_pred5 = knn3.predict(X_test_r)\n",
    "        c5 = confusion_matrix(y_testCV3, y_pred5, labels=[0,1,2,3,4,5,6,7,8,9])\n",
    "\n",
    "        acc_tmp.append(np.trace(c5)/sum(sum(c5)))\n",
    "        fin_conf_mat += c5\n",
    "        end = time.time()\n",
    "\n",
    "        time_tmp.append(end-start)\n",
    "\n",
    "    print(a,', Average accuracy: ', round(np.mean(acc_tmp),8),' | Average execution time: ', round(np.mean(time_tmp),8), sep='')"
   ]
  },
  {
   "cell_type": "markdown",
   "metadata": {},
   "source": [
    "##### Training on 100% training samples with PCA reduction, test on test dataset"
   ]
  },
  {
   "cell_type": "code",
   "execution_count": 167,
   "metadata": {},
   "outputs": [
    {
     "name": "stdout",
     "output_type": "stream",
     "text": [
      "Accuracy without reduction: 0.8732 | Execution time: 23.369178295135498\n"
     ]
    }
   ],
   "source": [
    "pca = PCA(n_components=0.9)\n",
    "pca.fit(X_train_std)\n",
    "X_train_r = pca.transform(X_train_std)\n",
    "X_test_r = pca.transform(X_test_std)\n",
    "\n",
    "start = time.time()\n",
    "\n",
    "knn3 = KNeighborsClassifier(n_neighbors = 6, algorithm = \"ball_tree\", metric = \"manhattan\", weights = \"distance\", n_jobs = 20)\n",
    "knn3.fit(X_train_r, y_train)\n",
    "y_pred6 = knn3.predict(X_test_r)\n",
    "c6 = confusion_matrix(y_test, y_pred6, labels=[0,1,2,3,4,5,6,7,8,9])\n",
    "\n",
    "end = time.time()\n",
    "print('Accuracy without reduction:', np.trace(c6)/sum(sum(c6)), '| Execution time:', end - start)"
   ]
  },
  {
   "cell_type": "code",
   "execution_count": 168,
   "metadata": {},
   "outputs": [
    {
     "name": "stdout",
     "output_type": "stream",
     "text": [
      "[[852   1  13  16   5   0 107   1   4   1]\n",
      " [  4 974   0  15   2   0   5   0   0   0]\n",
      " [ 16   2 764  13 112   1  91   0   1   0]\n",
      " [ 28   5   7 901  35   0  24   0   0   0]\n",
      " [  1   0  57  20 834   0  87   0   1   0]\n",
      " [  1   0   0   0   0 892   4  61   3  39]\n",
      " [164   1  72  24  72   1 658   0   8   0]\n",
      " [  0   0   0   0   0  11   0 937   0  52]\n",
      " [  4   1   6   1   7   1  13   4 960   3]\n",
      " [  0   0   0   0   0   4   1  35   0 960]]\n"
     ]
    }
   ],
   "source": [
    "print(c6)"
   ]
  },
  {
   "cell_type": "code",
   "execution_count": 169,
   "metadata": {},
   "outputs": [
    {
     "name": "stdout",
     "output_type": "stream",
     "text": [
      "For class 0 accuracy is: 0.9634\n",
      "For class 1 accuracy is: 0.9964\n",
      "For class 2 accuracy is: 0.9609\n",
      "For class 3 accuracy is: 0.9812\n",
      "For class 8 accuracy is: 0.9601\n",
      "For class 6 accuracy is: 0.9874\n",
      "For class 5 accuracy is: 0.9326\n",
      "For class 4 accuracy is: 0.9836\n",
      "For class 7 accuracy is: 0.9943\n",
      "For class 9 accuracy is: 0.9865\n",
      "-------------\n",
      "0.9746399999999997\n"
     ]
    }
   ],
   "source": [
    "print(accuracy_per_class(c6, y_test.unique()))"
   ]
  },
  {
   "cell_type": "code",
   "execution_count": 170,
   "metadata": {},
   "outputs": [
    {
     "name": "stdout",
     "output_type": "stream",
     "text": [
      "For class 0 sensitivity is: 0.852\n",
      "For class 1 sensitivity is: 0.974\n",
      "For class 2 sensitivity is: 0.764\n",
      "For class 3 sensitivity is: 0.901\n",
      "For class 8 sensitivity is: 0.834\n",
      "For class 6 sensitivity is: 0.892\n",
      "For class 5 sensitivity is: 0.658\n",
      "For class 4 sensitivity is: 0.937\n",
      "For class 7 sensitivity is: 0.96\n",
      "For class 9 sensitivity is: 0.96\n",
      "-------------\n",
      "0.8732\n"
     ]
    }
   ],
   "source": [
    "print(sensitivity_per_class(c6, y_test.unique()))"
   ]
  },
  {
   "cell_type": "markdown",
   "metadata": {},
   "source": [
    "## Examples of wrong classification"
   ]
  },
  {
   "cell_type": "code",
   "execution_count": null,
   "metadata": {},
   "outputs": [],
   "source": []
  }
 ],
 "metadata": {
  "anaconda-cloud": {},
  "kernelspec": {
   "display_name": "Python 3 (ipykernel)",
   "language": "python",
   "name": "python3"
  },
  "language_info": {
   "codemirror_mode": {
    "name": "ipython",
    "version": 3
   },
   "file_extension": ".py",
   "mimetype": "text/x-python",
   "name": "python",
   "nbconvert_exporter": "python",
   "pygments_lexer": "ipython3",
   "version": "3.9.12"
  }
 },
 "nbformat": 4,
 "nbformat_minor": 1
}
